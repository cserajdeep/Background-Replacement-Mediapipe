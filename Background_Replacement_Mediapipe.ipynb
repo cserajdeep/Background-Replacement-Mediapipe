{
 "cells": [
  {
   "cell_type": "code",
   "execution_count": null,
   "metadata": {},
   "outputs": [],
   "source": [
    "################################### Background Remover #######################################\n",
    "import cv2\n",
    "import os\n",
    "import cvzone\n",
    "from cvzone.SelfiSegmentationModule import SelfiSegmentation\n",
    "\n",
    "cap = cv2.VideoCapture(0) # 0 -> Webcam Input\n",
    "cap.set(3, 640) # Frame Width\n",
    "cap.set(4, 480) # Frame Height\n",
    "\n",
    "SelectImg = 4      # 4-> Library 3 background image\n",
    "SolidBG = True    # True-> one color background, otherwise background image[SelectImg] \n",
    "\n",
    "segmentor = SelfiSegmentation()\n",
    "fpsReader = cvzone.FPS()\n",
    "\n",
    "listImg = os.listdir(\"ImageReplacements\")\n",
    "imgList = []\n",
    "for imgPath in listImg:\n",
    "    img = cv2.imread(f'ImageReplacements/{imgPath}')\n",
    "    img = cv2.resize(img, (640,480))\n",
    "    imgList.append(img)\n",
    "\n",
    "while True:\n",
    "    success, img = cap.read()\n",
    "    if SolidBG:\n",
    "        imgOut = segmentor.removeBG(img, (255,255,255), threshold=0.9)  # Solid White Background\n",
    "    else:\n",
    "        imgOut = segmentor.removeBG(img, imgList[SelectImg], threshold=0.8) # ith Image as background, i=SelectImg\n",
    "\n",
    "    imgStack = cvzone.stackImages([img, imgOut], 2,1)\n",
    "    _, imgStack = fpsReader.update(imgStack)\n",
    "    \n",
    "    cv2.imshow(\"MyBackground\", imgStack)\n",
    "    if cv2.waitKey(1) & 0xFF == ord('q'):\n",
    "        break\n",
    "        \n",
    "cv2.imwrite(\"MyBackground.png\", imgStack)        \n",
    "cap.release()\n",
    "cv2.destroyAllWindows()"
   ]
  },
  {
   "cell_type": "code",
   "execution_count": null,
   "metadata": {},
   "outputs": [],
   "source": []
  }
 ],
 "metadata": {
  "kernelspec": {
   "display_name": "Python 3",
   "language": "python",
   "name": "python3"
  },
  "language_info": {
   "codemirror_mode": {
    "name": "ipython",
    "version": 3
   },
   "file_extension": ".py",
   "mimetype": "text/x-python",
   "name": "python",
   "nbconvert_exporter": "python",
   "pygments_lexer": "ipython3",
   "version": "3.7.4"
  }
 },
 "nbformat": 4,
 "nbformat_minor": 2
}
